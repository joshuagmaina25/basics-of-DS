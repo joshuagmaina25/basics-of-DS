{
 "cells": [
  {
   "cell_type": "code",
   "execution_count": 1,
   "id": "d34b6e0e",
   "metadata": {},
   "outputs": [],
   "source": [
    "import pandas as pd\n",
    "import numpy as np\n",
    "import matplotlib.pyplot as plt"
   ]
  },
  {
   "cell_type": "code",
   "execution_count": 6,
   "id": "91567c7d",
   "metadata": {
    "scrolled": true
   },
   "outputs": [
    {
     "data": {
      "text/html": [
       "<div>\n",
       "<style scoped>\n",
       "    .dataframe tbody tr th:only-of-type {\n",
       "        vertical-align: middle;\n",
       "    }\n",
       "\n",
       "    .dataframe tbody tr th {\n",
       "        vertical-align: top;\n",
       "    }\n",
       "\n",
       "    .dataframe thead th {\n",
       "        text-align: right;\n",
       "    }\n",
       "</style>\n",
       "<table border=\"1\" class=\"dataframe\">\n",
       "  <thead>\n",
       "    <tr style=\"text-align: right;\">\n",
       "      <th></th>\n",
       "      <th>month</th>\n",
       "      <th>CAD</th>\n",
       "      <th>AUS</th>\n",
       "      <th>UK</th>\n",
       "      <th>GER</th>\n",
       "      <th>USA</th>\n",
       "    </tr>\n",
       "  </thead>\n",
       "  <tbody>\n",
       "    <tr>\n",
       "      <th>0</th>\n",
       "      <td>january</td>\n",
       "      <td>21</td>\n",
       "      <td>20</td>\n",
       "      <td>16</td>\n",
       "      <td>21</td>\n",
       "      <td>18</td>\n",
       "    </tr>\n",
       "    <tr>\n",
       "      <th>1</th>\n",
       "      <td>feb</td>\n",
       "      <td>12</td>\n",
       "      <td>21</td>\n",
       "      <td>43</td>\n",
       "      <td>15</td>\n",
       "      <td>35</td>\n",
       "    </tr>\n",
       "    <tr>\n",
       "      <th>2</th>\n",
       "      <td>march</td>\n",
       "      <td>32</td>\n",
       "      <td>16</td>\n",
       "      <td>22</td>\n",
       "      <td>11</td>\n",
       "      <td>20</td>\n",
       "    </tr>\n",
       "    <tr>\n",
       "      <th>3</th>\n",
       "      <td>april</td>\n",
       "      <td>22</td>\n",
       "      <td>24</td>\n",
       "      <td>42</td>\n",
       "      <td>22</td>\n",
       "      <td>35</td>\n",
       "    </tr>\n",
       "    <tr>\n",
       "      <th>4</th>\n",
       "      <td>may</td>\n",
       "      <td>22</td>\n",
       "      <td>20</td>\n",
       "      <td>40</td>\n",
       "      <td>20</td>\n",
       "      <td>30</td>\n",
       "    </tr>\n",
       "    <tr>\n",
       "      <th>5</th>\n",
       "      <td>june</td>\n",
       "      <td>24</td>\n",
       "      <td>42</td>\n",
       "      <td>12</td>\n",
       "      <td>21</td>\n",
       "      <td>10</td>\n",
       "    </tr>\n",
       "    <tr>\n",
       "      <th>6</th>\n",
       "      <td>july</td>\n",
       "      <td>65</td>\n",
       "      <td>22</td>\n",
       "      <td>32</td>\n",
       "      <td>11</td>\n",
       "      <td>30</td>\n",
       "    </tr>\n",
       "    <tr>\n",
       "      <th>7</th>\n",
       "      <td>august</td>\n",
       "      <td>11</td>\n",
       "      <td>13</td>\n",
       "      <td>14</td>\n",
       "      <td>12</td>\n",
       "      <td>12</td>\n",
       "    </tr>\n",
       "    <tr>\n",
       "      <th>8</th>\n",
       "      <td>september</td>\n",
       "      <td>33</td>\n",
       "      <td>43</td>\n",
       "      <td>32</td>\n",
       "      <td>23</td>\n",
       "      <td>30</td>\n",
       "    </tr>\n",
       "    <tr>\n",
       "      <th>9</th>\n",
       "      <td>october</td>\n",
       "      <td>15</td>\n",
       "      <td>32</td>\n",
       "      <td>18</td>\n",
       "      <td>32</td>\n",
       "      <td>16</td>\n",
       "    </tr>\n",
       "    <tr>\n",
       "      <th>10</th>\n",
       "      <td>november</td>\n",
       "      <td>35</td>\n",
       "      <td>12</td>\n",
       "      <td>32</td>\n",
       "      <td>45</td>\n",
       "      <td>30</td>\n",
       "    </tr>\n",
       "    <tr>\n",
       "      <th>11</th>\n",
       "      <td>december</td>\n",
       "      <td>100</td>\n",
       "      <td>100</td>\n",
       "      <td>200</td>\n",
       "      <td>135</td>\n",
       "      <td>180</td>\n",
       "    </tr>\n",
       "  </tbody>\n",
       "</table>\n",
       "</div>"
      ],
      "text/plain": [
       "        month  CAD  AUS   UK  GER  USA\n",
       "0     january   21   20   16   21   18\n",
       "1         feb   12   21   43   15   35\n",
       "2       march   32   16   22   11   20\n",
       "3       april   22   24   42   22   35\n",
       "4         may   22   20   40   20   30\n",
       "5        june   24   42   12   21   10\n",
       "6        july   65   22   32   11   30\n",
       "7      august   11   13   14   12   12\n",
       "8   september   33   43   32   23   30\n",
       "9     october   15   32   18   32   16\n",
       "10   november   35   12   32   45   30\n",
       "11   december  100  100  200  135  180"
      ]
     },
     "execution_count": 6,
     "metadata": {},
     "output_type": "execute_result"
    }
   ],
   "source": [
    "imdf=pd.read_csv('counties visited csv.csv')\n",
    "imdf"
   ]
  },
  {
   "cell_type": "markdown",
   "id": "450e41d3",
   "metadata": {},
   "source": [
    "# analysis of single country\n",
    "check the **data types** of the data so find out if analysis can be done"
   ]
  },
  {
   "cell_type": "code",
   "execution_count": 7,
   "id": "4801c028",
   "metadata": {
    "scrolled": false
   },
   "outputs": [
    {
     "data": {
      "text/plain": [
       "month    object\n",
       "CAD       int64\n",
       "AUS       int64\n",
       "UK        int64\n",
       "GER       int64\n",
       "USA       int64\n",
       "dtype: object"
      ]
     },
     "execution_count": 7,
     "metadata": {},
     "output_type": "execute_result"
    }
   ],
   "source": [
    "imdf.dtypes"
   ]
  },
  {
   "cell_type": "code",
   "execution_count": 8,
   "id": "9508b78a",
   "metadata": {
    "scrolled": true
   },
   "outputs": [
    {
     "data": {
      "text/plain": [
       "0      20\n",
       "1      21\n",
       "2      16\n",
       "3      24\n",
       "4      20\n",
       "5      42\n",
       "6      22\n",
       "7      13\n",
       "8      43\n",
       "9      32\n",
       "10     12\n",
       "11    100\n",
       "Name: AUS, dtype: int64"
      ]
     },
     "execution_count": 8,
     "metadata": {},
     "output_type": "execute_result"
    }
   ],
   "source": [
    "imdf.AUS"
   ]
  },
  {
   "cell_type": "markdown",
   "id": "a8128e7d",
   "metadata": {},
   "source": [
    "### insert as a dataframe"
   ]
  },
  {
   "cell_type": "code",
   "execution_count": 11,
   "id": "5a56326f",
   "metadata": {},
   "outputs": [],
   "source": [
    "month =[1,2,3,4,5,6,7,8,9,10,11,12]\n",
    "CAD =[10,9,7,3,8,5,8,3,6,10,12,11]\n",
    "AUS=[10,8,6,3,5,6,8,6,8,11,12,10]\n",
    "GER=[11,9,6,6,5,4,4,5,4,3,2,9]\n",
    "USA=[12,11,10,9,8,7,8,9,10,11,12,11]"
   ]
  },
  {
   "cell_type": "code",
   "execution_count": 13,
   "id": "1a8b2503",
   "metadata": {},
   "outputs": [
    {
     "data": {
      "image/png": "[encoded data removed]",
      "text/plain": [
       "<Figure size 432x288 with 1 Axes>"
      ]
     },
     "metadata": {
      "needs_background": "light"
     },
     "output_type": "display_data"
    },
    {
     "data": {
      "text/plain": [
       "<Figure size 1250x750 with 0 Axes>"
      ]
     },
     "metadata": {},
     "output_type": "display_data"
    }
   ],
   "source": [
    "#plot line graphs\n",
    "plt.plot(month, CAD, 'r', label='CAD')\n",
    "#assign each country a unique color\n",
    "plt.plot(month, AUS, 'y', label='aus')\n",
    "plt.plot(month, GER,'g', label='GER')\n",
    "plt.plot(month, USA, 'b', label='USA')\n",
    "plt.title(\"visitors in 2022\")\n",
    "plt.xlabel(\"month\")\n",
    "plt.xticks([0,1,2,3,4,5,6,7,8,9,10,11,12])\n",
    "plt.yticks([0,2,4,6,8,10,12,14])\n",
    "plt.ylabel(\"visitors\")\n",
    "plt.figure(figsize=(5,3),dpi=250)\n",
    "plt.show()"
   ]
  },
  {
   "cell_type": "code",
   "execution_count": null,
   "id": "16ad2a6f",
   "metadata": {},
   "outputs": [],
   "source": []
  },
  {
   "cell_type": "markdown",
   "id": "6a3b12e6",
   "metadata": {},
   "source": [
    "# dataframe2 example"
   ]
  },
  {
   "cell_type": "code",
   "execution_count": null,
   "id": "577a9b4a",
   "metadata": {},
   "outputs": [],
   "source": []
  },
  {
   "cell_type": "code",
   "execution_count": 14,
   "id": "6b2bfb1d",
   "metadata": {
    "scrolled": false
   },
   "outputs": [],
   "source": [
    "import pandas as pd\n",
    "data={'name':['john wid','mia dubi','kendy set','evans well','mike nje','purity kel'],\n",
    "          'age':['18','22','35','23','28','25'],\n",
    "          'gender':['male','female','female','male','male','female'],\n",
    "          'country':['UK','america','netherland','america','Canada','Canada']}\n",
    "tourf=pd.DataFrame(data)"
   ]
  },
  {
   "cell_type": "code",
   "execution_count": 15,
   "id": "d4f4777d",
   "metadata": {
    "scrolled": true
   },
   "outputs": [
    {
     "data": {
      "text/html": [
       "<div>\n",
       "<style scoped>\n",
       "    .dataframe tbody tr th:only-of-type {\n",
       "        vertical-align: middle;\n",
       "    }\n",
       "\n",
       "    .dataframe tbody tr th {\n",
       "        vertical-align: top;\n",
       "    }\n",
       "\n",
       "    .dataframe thead th {\n",
       "        text-align: right;\n",
       "    }\n",
       "</style>\n",
       "<table border=\"1\" class=\"dataframe\">\n",
       "  <thead>\n",
       "    <tr style=\"text-align: right;\">\n",
       "      <th></th>\n",
       "      <th>name</th>\n",
       "      <th>age</th>\n",
       "      <th>gender</th>\n",
       "      <th>country</th>\n",
       "    </tr>\n",
       "  </thead>\n",
       "  <tbody>\n",
       "    <tr>\n",
       "      <th>0</th>\n",
       "      <td>john wid</td>\n",
       "      <td>18</td>\n",
       "      <td>male</td>\n",
       "      <td>UK</td>\n",
       "    </tr>\n",
       "    <tr>\n",
       "      <th>1</th>\n",
       "      <td>mia dubi</td>\n",
       "      <td>22</td>\n",
       "      <td>female</td>\n",
       "      <td>america</td>\n",
       "    </tr>\n",
       "    <tr>\n",
       "      <th>2</th>\n",
       "      <td>kendy set</td>\n",
       "      <td>35</td>\n",
       "      <td>female</td>\n",
       "      <td>netherland</td>\n",
       "    </tr>\n",
       "    <tr>\n",
       "      <th>3</th>\n",
       "      <td>evans well</td>\n",
       "      <td>23</td>\n",
       "      <td>male</td>\n",
       "      <td>america</td>\n",
       "    </tr>\n",
       "    <tr>\n",
       "      <th>4</th>\n",
       "      <td>mike nje</td>\n",
       "      <td>28</td>\n",
       "      <td>male</td>\n",
       "      <td>Canada</td>\n",
       "    </tr>\n",
       "    <tr>\n",
       "      <th>5</th>\n",
       "      <td>purity kel</td>\n",
       "      <td>25</td>\n",
       "      <td>female</td>\n",
       "      <td>Canada</td>\n",
       "    </tr>\n",
       "  </tbody>\n",
       "</table>\n",
       "</div>"
      ],
      "text/plain": [
       "         name age  gender     country\n",
       "0    john wid  18    male          UK\n",
       "1    mia dubi  22  female     america\n",
       "2   kendy set  35  female  netherland\n",
       "3  evans well  23    male     america\n",
       "4    mike nje  28    male      Canada\n",
       "5  purity kel  25  female      Canada"
      ]
     },
     "execution_count": 15,
     "metadata": {},
     "output_type": "execute_result"
    }
   ],
   "source": [
    "tourf"
   ]
  },
  {
   "cell_type": "code",
   "execution_count": null,
   "id": "b030c53c",
   "metadata": {},
   "outputs": [],
   "source": []
  }
 ],
 "metadata": {
  "kernelspec": {
   "display_name": "Python 3 (ipykernel)",
   "language": "python",
   "name": "python3"
  },
  "language_info": {
   "codemirror_mode": {
    "name": "ipython",
    "version": 3
   },
   "file_extension": ".py",
   "mimetype": "text/x-python",
   "name": "python",
   "nbconvert_exporter": "python",
   "pygments_lexer": "ipython3",
   "version": "3.9.12"
  }
 },
 "nbformat": 4,
 "nbformat_minor": 5
}
