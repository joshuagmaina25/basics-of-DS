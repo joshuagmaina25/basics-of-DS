{
 "cells": [
  {
   "cell_type": "code",
   "execution_count": 1,
   "id": "1eefcbe0",
   "metadata": {},
   "outputs": [],
   "source": [
    "import numpy as np\n",
    "import pandas as pd"
   ]
  },
  {
   "cell_type": "markdown",
   "id": "ba503492",
   "metadata": {},
   "source": [
    "basic arrays to store data"
   ]
  },
  {
   "cell_type": "code",
   "execution_count": 3,
   "id": "8c210007",
   "metadata": {},
   "outputs": [
    {
     "data": {
      "text/plain": [
       "array([10, 22,  1, 12,  1, 22,  1,  3,  1,  3])"
      ]
     },
     "execution_count": 3,
     "metadata": {},
     "output_type": "execute_result"
    }
   ],
   "source": [
    "age=np.array([10,22,1,12,1,22,1,3,1,3])\n",
    "age"
   ]
  },
  {
   "cell_type": "code",
   "execution_count": 4,
   "id": "dff5c9cb",
   "metadata": {},
   "outputs": [
    {
     "data": {
      "text/plain": [
       "array([12,  2, 32, 12,  3, 12,  3, 42,  1, 32])"
      ]
     },
     "execution_count": 4,
     "metadata": {},
     "output_type": "execute_result"
    }
   ],
   "source": [
    "weight=np.array([12,2,32,12,3,12,3,42,1,32])\n",
    "weight"
   ]
  },
  {
   "cell_type": "code",
   "execution_count": 5,
   "id": "99f2cf91",
   "metadata": {},
   "outputs": [
    {
     "data": {
      "text/plain": [
       "(3, 1)"
      ]
     },
     "execution_count": 5,
     "metadata": {},
     "output_type": "execute_result"
    }
   ],
   "source": [
    "weight[6], age[4]"
   ]
  },
  {
   "cell_type": "code",
   "execution_count": 6,
   "id": "6bab18d7",
   "metadata": {},
   "outputs": [
    {
     "data": {
      "text/plain": [
       "32"
      ]
     },
     "execution_count": 6,
     "metadata": {},
     "output_type": "execute_result"
    }
   ],
   "source": [
    "weight[-1]"
   ]
  },
  {
   "cell_type": "markdown",
   "id": "c680a19e",
   "metadata": {},
   "source": [
    "## creating a dimensional array(matrix)"
   ]
  },
  {
   "cell_type": "code",
   "execution_count": 7,
   "id": "8df1bad3",
   "metadata": {},
   "outputs": [],
   "source": [
    "hdata=np.array([\n",
    "         [3,5,6,4],\n",
    "         [2,3,6,3]\n",
    "])"
   ]
  },
  {
   "cell_type": "code",
   "execution_count": 8,
   "id": "12d5bc88",
   "metadata": {},
   "outputs": [
    {
     "data": {
      "text/plain": [
       "(2, 4)"
      ]
     },
     "execution_count": 8,
     "metadata": {},
     "output_type": "execute_result"
    }
   ],
   "source": [
    "hdata.shape"
   ]
  },
  {
   "cell_type": "markdown",
   "id": "eec350a9",
   "metadata": {},
   "source": [
    "indexing and slicing  a matrix"
   ]
  },
  {
   "cell_type": "code",
   "execution_count": 9,
   "id": "74163c8e",
   "metadata": {},
   "outputs": [
    {
     "data": {
      "text/plain": [
       "array([2, 3, 6, 3])"
      ]
     },
     "execution_count": 9,
     "metadata": {},
     "output_type": "execute_result"
    }
   ],
   "source": [
    "hdata[1]"
   ]
  },
  {
   "cell_type": "markdown",
   "id": "6b0c7c75",
   "metadata": {},
   "source": [
    "statistics of a matrix"
   ]
  },
  {
   "cell_type": "code",
   "execution_count": 10,
   "id": "0c7f6967",
   "metadata": {},
   "outputs": [
    {
     "data": {
      "text/plain": [
       "32"
      ]
     },
     "execution_count": 10,
     "metadata": {},
     "output_type": "execute_result"
    }
   ],
   "source": [
    "hdata.sum()"
   ]
  },
  {
   "cell_type": "code",
   "execution_count": 11,
   "id": "4aed684a",
   "metadata": {},
   "outputs": [
    {
     "data": {
      "text/plain": [
       "array([18, 14])"
      ]
     },
     "execution_count": 11,
     "metadata": {},
     "output_type": "execute_result"
    }
   ],
   "source": [
    "hdata.sum(1)"
   ]
  },
  {
   "cell_type": "code",
   "execution_count": 12,
   "id": "ecb22d0e",
   "metadata": {},
   "outputs": [
    {
     "data": {
      "text/plain": [
       "array([ 5,  8, 12,  7])"
      ]
     },
     "execution_count": 12,
     "metadata": {},
     "output_type": "execute_result"
    }
   ],
   "source": [
    "hdata.sum(0)"
   ]
  },
  {
   "cell_type": "markdown",
   "id": "a6bac86b",
   "metadata": {},
   "source": [
    "## linear algebra of arrays\n",
    "Things like **transpose,determinant**of matrices"
   ]
  },
  {
   "cell_type": "code",
   "execution_count": 13,
   "id": "9acb129c",
   "metadata": {},
   "outputs": [],
   "source": [
    "sale=np.array([\n",
    "    [0.3, 2.4, 2.3],\n",
    "    [1.5, 2.5, 0.6]\n",
    "])"
   ]
  },
  {
   "cell_type": "markdown",
   "id": "0701211c",
   "metadata": {},
   "source": [
    "build a  random dataset how to analyze and give recommendations"
   ]
  },
  {
   "cell_type": "markdown",
   "id": "fc850401",
   "metadata": {},
   "source": [
    "create a numpy aray with values ranging from 10 to 39"
   ]
  },
  {
   "cell_type": "markdown",
   "id": "e4dd000b",
   "metadata": {},
   "source": [
    "# pandas calculations"
   ]
  },
  {
   "cell_type": "code",
   "execution_count": 16,
   "id": "cb201c9b",
   "metadata": {},
   "outputs": [
    {
     "data": {
      "text/plain": [
       "0     21.0\n",
       "1     10.0\n",
       "2     12.3\n",
       "3     24.3\n",
       "4     21.0\n",
       "5     13.1\n",
       "6     32.2\n",
       "7      6.5\n",
       "8      4.8\n",
       "9      5.0\n",
       "10     8.0\n",
       "11    24.0\n",
       "Name: no of customers in 2022, dtype: float64"
      ]
     },
     "execution_count": 16,
     "metadata": {},
     "output_type": "execute_result"
    }
   ],
   "source": [
    "#in thousands\n",
    "cust_no=pd.Series([21,10,12.3,24.3,21,13.1,32.2,6.5,4.8,5,8,24])\n",
    "cust_no.name=\"no of customers in 2022\"\n",
    "cust_no"
   ]
  },
  {
   "cell_type": "code",
   "execution_count": 17,
   "id": "7b8853b9",
   "metadata": {},
   "outputs": [
    {
     "data": {
      "text/plain": [
       "Jan    21.0\n",
       "F      10.0\n",
       "M      12.3\n",
       "A      24.3\n",
       "My     21.0\n",
       "jun    13.1\n",
       "jul    32.2\n",
       "Ag      6.5\n",
       "Se      4.8\n",
       "Oc      5.0\n",
       "no      8.0\n",
       "Dec    24.0\n",
       "Name: no of customers in 2022, dtype: float64"
      ]
     },
     "execution_count": 17,
     "metadata": {},
     "output_type": "execute_result"
    }
   ],
   "source": [
    "cust_no.index=['Jan','F','M','A','My','jun','jul','Ag','Se','Oc','no','Dec']\n",
    "cust_no"
   ]
  },
  {
   "cell_type": "markdown",
   "id": "d2150966",
   "metadata": {},
   "source": [
    "you can also write both index and values at same time"
   ]
  },
  {
   "cell_type": "code",
   "execution_count": 2,
   "id": "71dfa9e7",
   "metadata": {},
   "outputs": [],
   "source": [
    "import matplotlib.pyplot as plt"
   ]
  },
  {
   "cell_type": "code",
   "execution_count": 3,
   "id": "eb867b54",
   "metadata": {},
   "outputs": [
    {
     "data": {
      "text/plain": [
       "Course        240\n",
       "Bootcamp      123\n",
       "Corporate     324\n",
       "Consulting    232\n",
       "Workshop      500\n",
       "Software      243\n",
       "dtype: int64"
      ]
     },
     "execution_count": 3,
     "metadata": {},
     "output_type": "execute_result"
    }
   ],
   "source": [
    "income=pd.Series([240, 123,324, 232,500, 243],\n",
    "                index=[\"Course\",\"Bootcamp\",\"Corporate\",\"Consulting\",\"Workshop\",\"Software\"])\n",
    "income"
   ]
  },
  {
   "cell_type": "code",
   "execution_count": 4,
   "id": "c7c33a94",
   "metadata": {},
   "outputs": [
    {
     "data": {
      "image/png": "[encoded data removed]",
      "text/plain": [
       "<Figure size 432x288 with 1 Axes>"
      ]
     },
     "metadata": {
      "needs_background": "light"
     },
     "output_type": "display_data"
    }
   ],
   "source": [
    "income.plot.bar()\n",
    "plt.subplots_adjust(bottom=0.2)\n",
    "plt.show()"
   ]
  },
  {
   "cell_type": "markdown",
   "id": "edc1cd14",
   "metadata": {},
   "source": [
    "## Cleaning data with pandas"
   ]
  },
  {
   "cell_type": "code",
   "execution_count": 18,
   "id": "b55821b8",
   "metadata": {},
   "outputs": [
    {
     "data": {
      "text/plain": [
       "True"
      ]
     },
     "execution_count": 18,
     "metadata": {},
     "output_type": "execute_result"
    }
   ],
   "source": [
    "pd.isna(None)"
   ]
  },
  {
   "cell_type": "code",
   "execution_count": 24,
   "id": "25a18fa6",
   "metadata": {
    "scrolled": true
   },
   "outputs": [
    {
     "data": {
      "text/plain": [
       "0    False\n",
       "1    False\n",
       "2     True\n",
       "3    False\n",
       "4    False\n",
       "5     True\n",
       "6    False\n",
       "7    False\n",
       "dtype: bool"
      ]
     },
     "execution_count": 24,
     "metadata": {},
     "output_type": "execute_result"
    }
   ],
   "source": [
    "vote=pd.Series([12,32,np.nan,21,2,np.nan,12,12])\n",
    "pd.isna(vote)"
   ]
  },
  {
   "cell_type": "code",
   "execution_count": 25,
   "id": "f289dec7",
   "metadata": {},
   "outputs": [
    {
     "data": {
      "text/plain": [
       "6"
      ]
     },
     "execution_count": 25,
     "metadata": {},
     "output_type": "execute_result"
    }
   ],
   "source": [
    "pd.notna(vote).sum()"
   ]
  },
  {
   "cell_type": "markdown",
   "id": "168e68db",
   "metadata": {},
   "source": [
    " Drop null values"
   ]
  },
  {
   "cell_type": "code",
   "execution_count": 26,
   "id": "715ff0bf",
   "metadata": {},
   "outputs": [
    {
     "data": {
      "text/plain": [
       "0    12.0\n",
       "1    32.0\n",
       "3    21.0\n",
       "4     2.0\n",
       "6    12.0\n",
       "7    12.0\n",
       "dtype: float64"
      ]
     },
     "execution_count": 26,
     "metadata": {},
     "output_type": "execute_result"
    }
   ],
   "source": [
    "vote.dropna()"
   ]
  },
  {
   "cell_type": "code",
   "execution_count": 27,
   "id": "98bd44ac",
   "metadata": {},
   "outputs": [
    {
     "data": {
      "text/plain": [
       "0    12.0\n",
       "1    32.0\n",
       "2     NaN\n",
       "3    21.0\n",
       "4     2.0\n",
       "5     NaN\n",
       "6    12.0\n",
       "7    12.0\n",
       "dtype: float64"
      ]
     },
     "execution_count": 27,
     "metadata": {},
     "output_type": "execute_result"
    }
   ],
   "source": [
    "vote# original data is immutable hence no worries "
   ]
  },
  {
   "cell_type": "markdown",
   "id": "2e4db166",
   "metadata": {},
   "source": [
    "Null values"
   ]
  },
  {
   "cell_type": "code",
   "execution_count": 29,
   "id": "72e81798",
   "metadata": {},
   "outputs": [
    {
     "data": {
      "text/html": [
       "<div>\n",
       "<style scoped>\n",
       "    .dataframe tbody tr th:only-of-type {\n",
       "        vertical-align: middle;\n",
       "    }\n",
       "\n",
       "    .dataframe tbody tr th {\n",
       "        vertical-align: top;\n",
       "    }\n",
       "\n",
       "    .dataframe thead th {\n",
       "        text-align: right;\n",
       "    }\n",
       "</style>\n",
       "<table border=\"1\" class=\"dataframe\">\n",
       "  <thead>\n",
       "    <tr style=\"text-align: right;\">\n",
       "      <th></th>\n",
       "      <th>Age</th>\n",
       "      <th>Sex</th>\n",
       "    </tr>\n",
       "  </thead>\n",
       "  <tbody>\n",
       "    <tr>\n",
       "      <th>0</th>\n",
       "      <td>24</td>\n",
       "      <td>F</td>\n",
       "    </tr>\n",
       "    <tr>\n",
       "      <th>1</th>\n",
       "      <td>31</td>\n",
       "      <td>M</td>\n",
       "    </tr>\n",
       "    <tr>\n",
       "      <th>2</th>\n",
       "      <td>50</td>\n",
       "      <td>F</td>\n",
       "    </tr>\n",
       "    <tr>\n",
       "      <th>3</th>\n",
       "      <td>25</td>\n",
       "      <td>BI</td>\n",
       "    </tr>\n",
       "  </tbody>\n",
       "</table>\n",
       "</div>"
      ],
      "text/plain": [
       "   Age Sex\n",
       "0   24   F\n",
       "1   31   M\n",
       "2   50   F\n",
       "3   25  BI"
      ]
     },
     "execution_count": 29,
     "metadata": {},
     "output_type": "execute_result"
    }
   ],
   "source": [
    "schol_df=pd.DataFrame({'Age': [24, 31, 50,25], \n",
    "                       'Sex': ['F','M','F','BI']})\n",
    "schol_df"
   ]
  },
  {
   "cell_type": "markdown",
   "id": "5067babc",
   "metadata": {},
   "source": [
    "## find unique values"
   ]
  },
  {
   "cell_type": "code",
   "execution_count": 30,
   "id": "57cc48d1",
   "metadata": {},
   "outputs": [
    {
     "data": {
      "text/plain": [
       "array(['F', 'M', 'BI'], dtype=object)"
      ]
     },
     "execution_count": 30,
     "metadata": {},
     "output_type": "execute_result"
    }
   ],
   "source": [
    "schol_df['Sex'].unique()"
   ]
  },
  {
   "cell_type": "code",
   "execution_count": 31,
   "id": "3a03d9ca",
   "metadata": {},
   "outputs": [
    {
     "data": {
      "text/plain": [
       "F     2\n",
       "M     1\n",
       "BI    1\n",
       "Name: Sex, dtype: int64"
      ]
     },
     "execution_count": 31,
     "metadata": {},
     "output_type": "execute_result"
    }
   ],
   "source": [
    "schol_df['Sex'].value_counts()"
   ]
  },
  {
   "cell_type": "markdown",
   "id": "71661964",
   "metadata": {},
   "source": [
    "## Find duplicates"
   ]
  },
  {
   "cell_type": "code",
   "execution_count": 20,
   "id": "53b7a8e3",
   "metadata": {
    "scrolled": true
   },
   "outputs": [
    {
     "data": {
      "image/png": "[encoded data removed]",
      "text/plain": [
       "<Figure size 576x252 with 1 Axes>"
      ]
     },
     "metadata": {
      "needs_background": "light"
     },
     "output_type": "display_data"
    }
   ],
   "source": [
    "# generate business data from surveys\n",
    "male = np.array([10, 18, 15, 9])\n",
    "female = np.array([25, 28, 20, 18])\n",
    "labels=['Sector '+x for x in list('ABCD')]\n",
    "# the plot – left then right\n",
    "fig, ax = plt.subplots(figsize=(8, 3.5))\n",
    "width = 0.4 # bar width\n",
    "xlocs = np.arange(len(male))\n",
    "ax.bar(xlocs-width, male, width,\n",
    " color='#1f10ed', label='Male')\n",
    "ax.bar(xlocs, female, width,\n",
    " color='pink', label='Female')\n",
    "# labels, grids and title, then save\n",
    "ax.set_xticks(ticks=range(len(male)))\n",
    "ax.set_xticklabels(labels)\n",
    "ax.yaxis.grid(True)# to have gridlines\n",
    "ax.legend(loc='best')\n",
    "ax.set_ylabel('Count')\n",
    "fig.suptitle('Enterprenuers')\n",
    "fig.tight_layout(pad=1)"
   ]
  },
  {
   "cell_type": "markdown",
   "id": "48534d78",
   "metadata": {},
   "source": [
    "# Read data\n",
    "read from CSV, save data to CSV file, read data from SQL database, parsing HTML tables using read and URLs"
   ]
  },
  {
   "cell_type": "code",
   "execution_count": 1,
   "id": "c6b8b8ff",
   "metadata": {},
   "outputs": [],
   "source": [
    "import matplotlib.pyplot as plt"
   ]
  },
  {
   "cell_type": "code",
   "execution_count": 2,
   "id": "58872cd1",
   "metadata": {},
   "outputs": [],
   "source": [
    "import statsmodels.formula.api as smf#formula for regression"
   ]
  },
  {
   "cell_type": "code",
   "execution_count": 3,
   "id": "cc4f08e3",
   "metadata": {},
   "outputs": [],
   "source": [
    "import numpy as np\n",
    "import pandas as pd"
   ]
  },
  {
   "cell_type": "code",
   "execution_count": 21,
   "id": "a27de984",
   "metadata": {},
   "outputs": [
    {
     "data": {
      "text/html": [
       "<div>\n",
       "<style scoped>\n",
       "    .dataframe tbody tr th:only-of-type {\n",
       "        vertical-align: middle;\n",
       "    }\n",
       "\n",
       "    .dataframe tbody tr th {\n",
       "        vertical-align: top;\n",
       "    }\n",
       "\n",
       "    .dataframe thead th {\n",
       "        text-align: right;\n",
       "    }\n",
       "</style>\n",
       "<table border=\"1\" class=\"dataframe\">\n",
       "  <thead>\n",
       "    <tr style=\"text-align: right;\">\n",
       "      <th></th>\n",
       "      <th>coding hrs</th>\n",
       "      <th>projects</th>\n",
       "      <th>patners</th>\n",
       "      <th>Amount in ths</th>\n",
       "    </tr>\n",
       "  </thead>\n",
       "  <tbody>\n",
       "    <tr>\n",
       "      <th>0</th>\n",
       "      <td>10</td>\n",
       "      <td>3</td>\n",
       "      <td>1</td>\n",
       "      <td>10</td>\n",
       "    </tr>\n",
       "    <tr>\n",
       "      <th>1</th>\n",
       "      <td>2</td>\n",
       "      <td>5</td>\n",
       "      <td>8</td>\n",
       "      <td>30</td>\n",
       "    </tr>\n",
       "    <tr>\n",
       "      <th>2</th>\n",
       "      <td>8</td>\n",
       "      <td>15</td>\n",
       "      <td>4</td>\n",
       "      <td>130</td>\n",
       "    </tr>\n",
       "    <tr>\n",
       "      <th>3</th>\n",
       "      <td>5</td>\n",
       "      <td>11</td>\n",
       "      <td>5</td>\n",
       "      <td>90</td>\n",
       "    </tr>\n",
       "    <tr>\n",
       "      <th>4</th>\n",
       "      <td>4</td>\n",
       "      <td>18</td>\n",
       "      <td>6</td>\n",
       "      <td>160</td>\n",
       "    </tr>\n",
       "  </tbody>\n",
       "</table>\n",
       "</div>"
      ],
      "text/plain": [
       "   coding hrs  projects  patners  Amount in ths\n",
       "0          10         3        1             10\n",
       "1           2         5        8             30\n",
       "2           8        15        4            130\n",
       "3           5        11        5             90\n",
       "4           4        18        6            160"
      ]
     },
     "execution_count": 21,
     "metadata": {},
     "output_type": "execute_result"
    }
   ],
   "source": [
    "value_df=pd.DataFrame({'coding hrs':[10,2,8,5,4],\n",
    "                    'projects':[3,5,15,11,18],\n",
    "                    'patners':[1,8,4,5,6],\n",
    "                    'Amount in ths':[10,30,130,90,160]})\n",
    "value_df\n"
   ]
  },
  {
   "cell_type": "code",
   "execution_count": 8,
   "id": "7992c1eb",
   "metadata": {},
   "outputs": [
    {
     "data": {
      "text/html": [
       "<div>\n",
       "<style scoped>\n",
       "    .dataframe tbody tr th:only-of-type {\n",
       "        vertical-align: middle;\n",
       "    }\n",
       "\n",
       "    .dataframe tbody tr th {\n",
       "        vertical-align: top;\n",
       "    }\n",
       "\n",
       "    .dataframe thead th {\n",
       "        text-align: right;\n",
       "    }\n",
       "</style>\n",
       "<table border=\"1\" class=\"dataframe\">\n",
       "  <thead>\n",
       "    <tr style=\"text-align: right;\">\n",
       "      <th></th>\n",
       "      <th>coding hrs</th>\n",
       "      <th>projects</th>\n",
       "      <th>patners</th>\n",
       "      <th>Amount in ths</th>\n",
       "    </tr>\n",
       "  </thead>\n",
       "  <tbody>\n",
       "    <tr>\n",
       "      <th>count</th>\n",
       "      <td>5.000000</td>\n",
       "      <td>5.000000</td>\n",
       "      <td>5.000000</td>\n",
       "      <td>5.000000</td>\n",
       "    </tr>\n",
       "    <tr>\n",
       "      <th>mean</th>\n",
       "      <td>20.000000</td>\n",
       "      <td>14.400000</td>\n",
       "      <td>3.200000</td>\n",
       "      <td>21.600000</td>\n",
       "    </tr>\n",
       "    <tr>\n",
       "      <th>std</th>\n",
       "      <td>15.811388</td>\n",
       "      <td>8.173127</td>\n",
       "      <td>2.588436</td>\n",
       "      <td>5.727128</td>\n",
       "    </tr>\n",
       "    <tr>\n",
       "      <th>min</th>\n",
       "      <td>0.000000</td>\n",
       "      <td>3.000000</td>\n",
       "      <td>0.000000</td>\n",
       "      <td>14.000000</td>\n",
       "    </tr>\n",
       "    <tr>\n",
       "      <th>25%</th>\n",
       "      <td>10.000000</td>\n",
       "      <td>11.000000</td>\n",
       "      <td>1.000000</td>\n",
       "      <td>20.000000</td>\n",
       "    </tr>\n",
       "    <tr>\n",
       "      <th>50%</th>\n",
       "      <td>20.000000</td>\n",
       "      <td>15.000000</td>\n",
       "      <td>4.000000</td>\n",
       "      <td>22.000000</td>\n",
       "    </tr>\n",
       "    <tr>\n",
       "      <th>75%</th>\n",
       "      <td>30.000000</td>\n",
       "      <td>18.000000</td>\n",
       "      <td>5.000000</td>\n",
       "      <td>22.000000</td>\n",
       "    </tr>\n",
       "    <tr>\n",
       "      <th>max</th>\n",
       "      <td>40.000000</td>\n",
       "      <td>25.000000</td>\n",
       "      <td>6.000000</td>\n",
       "      <td>30.000000</td>\n",
       "    </tr>\n",
       "  </tbody>\n",
       "</table>\n",
       "</div>"
      ],
      "text/plain": [
       "       coding hrs   projects   patners  Amount in ths\n",
       "count    5.000000   5.000000  5.000000       5.000000\n",
       "mean    20.000000  14.400000  3.200000      21.600000\n",
       "std     15.811388   8.173127  2.588436       5.727128\n",
       "min      0.000000   3.000000  0.000000      14.000000\n",
       "25%     10.000000  11.000000  1.000000      20.000000\n",
       "50%     20.000000  15.000000  4.000000      22.000000\n",
       "75%     30.000000  18.000000  5.000000      22.000000\n",
       "max     40.000000  25.000000  6.000000      30.000000"
      ]
     },
     "execution_count": 8,
     "metadata": {},
     "output_type": "execute_result"
    }
   ],
   "source": [
    "value_df.describe()"
   ]
  },
  {
   "cell_type": "code",
   "execution_count": 22,
   "id": "be31b40e",
   "metadata": {
    "scrolled": true
   },
   "outputs": [
    {
     "data": {
      "text/html": [
       "<div>\n",
       "<style scoped>\n",
       "    .dataframe tbody tr th:only-of-type {\n",
       "        vertical-align: middle;\n",
       "    }\n",
       "\n",
       "    .dataframe tbody tr th {\n",
       "        vertical-align: top;\n",
       "    }\n",
       "\n",
       "    .dataframe thead th {\n",
       "        text-align: right;\n",
       "    }\n",
       "</style>\n",
       "<table border=\"1\" class=\"dataframe\">\n",
       "  <thead>\n",
       "    <tr style=\"text-align: right;\">\n",
       "      <th></th>\n",
       "      <th>coding hrs</th>\n",
       "      <th>projects</th>\n",
       "      <th>patners</th>\n",
       "      <th>Amount in ths</th>\n",
       "    </tr>\n",
       "  </thead>\n",
       "  <tbody>\n",
       "    <tr>\n",
       "      <th>coding hrs</th>\n",
       "      <td>1.000000</td>\n",
       "      <td>-0.178922</td>\n",
       "      <td>-0.973774</td>\n",
       "      <td>-0.178922</td>\n",
       "    </tr>\n",
       "    <tr>\n",
       "      <th>projects</th>\n",
       "      <td>-0.178922</td>\n",
       "      <td>1.000000</td>\n",
       "      <td>0.247980</td>\n",
       "      <td>1.000000</td>\n",
       "    </tr>\n",
       "    <tr>\n",
       "      <th>patners</th>\n",
       "      <td>-0.973774</td>\n",
       "      <td>0.247980</td>\n",
       "      <td>1.000000</td>\n",
       "      <td>0.247980</td>\n",
       "    </tr>\n",
       "    <tr>\n",
       "      <th>Amount in ths</th>\n",
       "      <td>-0.178922</td>\n",
       "      <td>1.000000</td>\n",
       "      <td>0.247980</td>\n",
       "      <td>1.000000</td>\n",
       "    </tr>\n",
       "  </tbody>\n",
       "</table>\n",
       "</div>"
      ],
      "text/plain": [
       "               coding hrs  projects   patners  Amount in ths\n",
       "coding hrs       1.000000 -0.178922 -0.973774      -0.178922\n",
       "projects        -0.178922  1.000000  0.247980       1.000000\n",
       "patners         -0.973774  0.247980  1.000000       0.247980\n",
       "Amount in ths   -0.178922  1.000000  0.247980       1.000000"
      ]
     },
     "execution_count": 22,
     "metadata": {},
     "output_type": "execute_result"
    }
   ],
   "source": [
    "value_df.corr() #below code show increase in a patner leads to 64% increase in amount"
   ]
  },
  {
   "cell_type": "code",
   "execution_count": 24,
   "id": "4014e8a6",
   "metadata": {},
   "outputs": [
    {
     "data": {
      "text/plain": [
       "<AxesSubplot:title={'center':'patners vs coding hrs'}, xlabel='coding hrs', ylabel='patners'>"
      ]
     },
     "execution_count": 24,
     "metadata": {},
     "output_type": "execute_result"
    },
    {
     "data": {
      "image/png": "[encoded data removed]",
      "text/plain": [
       "<Figure size 432x288 with 1 Axes>"
      ]
     },
     "metadata": {
      "needs_background": "light"
     },
     "output_type": "display_data"
    }
   ],
   "source": [
    "value_df.plot(kind='scatter', x='coding hrs', y='patners',title='patners vs coding hrs')"
   ]
  },
  {
   "cell_type": "code",
   "execution_count": 13,
   "id": "8fae92ef",
   "metadata": {},
   "outputs": [
    {
     "ename": "SyntaxError",
     "evalue": "invalid syntax (<unknown>, line 1)",
     "output_type": "error",
     "traceback": [
      "Traceback \u001b[1;36m(most recent call last)\u001b[0m:\n",
      "  File \u001b[0;32m~\\anaconda3\\lib\\site-packages\\IPython\\core\\interactiveshell.py:3369\u001b[0m in \u001b[0;35mrun_code\u001b[0m\n    exec(code_obj, self.user_global_ns, self.user_ns)\n",
      "  Input \u001b[0;32mIn [13]\u001b[0m in \u001b[0;35m<cell line: 2>\u001b[0m\n    lm = smf.ols(\"projects ~ coding hrs\", data=value_df).fit()\n",
      "  File \u001b[0;32m~\\anaconda3\\lib\\site-packages\\statsmodels\\base\\model.py:200\u001b[0m in \u001b[0;35mfrom_formula\u001b[0m\n    tmp = handle_formula_data(data, None, formula, depth=eval_env,\n",
      "  File \u001b[0;32m~\\anaconda3\\lib\\site-packages\\statsmodels\\formula\\formulatools.py:63\u001b[0m in \u001b[0;35mhandle_formula_data\u001b[0m\n    result = dmatrices(formula, Y, depth, return_type='dataframe',\n",
      "  File \u001b[0;32m~\\anaconda3\\lib\\site-packages\\patsy\\highlevel.py:309\u001b[0m in \u001b[0;35mdmatrices\u001b[0m\n    (lhs, rhs) = _do_highlevel_design(formula_like, data, eval_env,\n",
      "  File \u001b[0;32m~\\anaconda3\\lib\\site-packages\\patsy\\highlevel.py:164\u001b[0m in \u001b[0;35m_do_highlevel_design\u001b[0m\n    design_infos = _try_incr_builders(formula_like, data_iter_maker, eval_env,\n",
      "  File \u001b[0;32m~\\anaconda3\\lib\\site-packages\\patsy\\highlevel.py:66\u001b[0m in \u001b[0;35m_try_incr_builders\u001b[0m\n    return design_matrix_builders([formula_like.lhs_termlist,\n",
      "  File \u001b[0;32m~\\anaconda3\\lib\\site-packages\\patsy\\build.py:689\u001b[0m in \u001b[0;35mdesign_matrix_builders\u001b[0m\n    factor_states = _factors_memorize(all_factors, data_iter_maker, eval_env)\n",
      "  File \u001b[0;32m~\\anaconda3\\lib\\site-packages\\patsy\\build.py:354\u001b[0m in \u001b[0;35m_factors_memorize\u001b[0m\n    which_pass = factor.memorize_passes_needed(state, eval_env)\n",
      "  File \u001b[0;32m~\\anaconda3\\lib\\site-packages\\patsy\\eval.py:474\u001b[0m in \u001b[0;35mmemorize_passes_needed\u001b[0m\n    subset_names = [name for name in ast_names(self.code)\n",
      "  File \u001b[0;32m~\\anaconda3\\lib\\site-packages\\patsy\\eval.py:474\u001b[0m in \u001b[0;35m<listcomp>\u001b[0m\n    subset_names = [name for name in ast_names(self.code)\n",
      "  File \u001b[0;32m~\\anaconda3\\lib\\site-packages\\patsy\\eval.py:105\u001b[0m in \u001b[0;35mast_names\u001b[0m\n    for node in ast.walk(ast.parse(code)):\n",
      "\u001b[1;36m  File \u001b[1;32m~\\anaconda3\\lib\\ast.py:50\u001b[1;36m in \u001b[1;35mparse\u001b[1;36m\u001b[0m\n\u001b[1;33m    return compile(source, filename, mode, flags,\u001b[0m\n",
      "\u001b[1;36m  File \u001b[1;32m<unknown>:1\u001b[1;36m\u001b[0m\n\u001b[1;33m    coding hrs\u001b[0m\n\u001b[1;37m           ^\u001b[0m\n\u001b[1;31mSyntaxError\u001b[0m\u001b[1;31m:\u001b[0m invalid syntax\n"
     ]
    },
    {
     "data": {
      "image/png": "[encoded data removed]",
      "text/plain": [
       "<Figure size 432x288 with 1 Axes>"
      ]
     },
     "metadata": {
      "needs_background": "light"
     },
     "output_type": "display_data"
    }
   ],
   "source": [
    "value_df.plot(\"projects\", \"coding hrs\", kind=\"scatter\")\n",
    "lm = smf.ols(\"projects ~ coding hrs\", data=value_df).fit()\n",
    "xmin=value_df.projects.min()\n",
    "xmax=value_df.projects.max()\n",
    "X = numpy.linspace(xmin, xmax, 10)\n",
    "# params[0] is the intercept (beta₀)\n",
    "# params[1] is the slope (beta₁)\n",
    "Y = lm.params[0] + lm.params[1] * X\n",
    "plt.xlabel=(\"coding hrs per week\")\n",
    "plt.ylabel=(\"projects\")\n",
    "plt.plot(X, Y, color=\"darkgreen\")\n",
    "plt.show()"
   ]
  },
  {
   "cell_type": "markdown",
   "id": "d50facad",
   "metadata": {},
   "source": [
    "## pie charts using Python"
   ]
  },
  {
   "cell_type": "code",
   "execution_count": 1,
   "id": "beb73d29",
   "metadata": {},
   "outputs": [],
   "source": [
    "import pandas as pd\n",
    "import numpy as np\n",
    "import matplotlib.pyplot as plt"
   ]
  },
  {
   "cell_type": "code",
   "execution_count": 3,
   "id": "a3590c13",
   "metadata": {},
   "outputs": [],
   "source": [
    "data= {'Sector':['Retail','Software','Investment','Mining','Real estate','others'],\n",
    "        'Size':[35,20,25,10,5,5]}\n",
    "top_df = pd.DataFrame(data)"
   ]
  },
  {
   "cell_type": "code",
   "execution_count": 4,
   "id": "c21265b4",
   "metadata": {},
   "outputs": [
    {
     "data": {
      "image/png": "[encoded data removed]",
      "text/plain": [
       "<Figure size 432x288 with 1 Axes>"
      ]
     },
     "metadata": {},
     "output_type": "display_data"
    }
   ],
   "source": [
    "top_df.set_index('Sector', inplace=True)\n",
    "ax = top_df.plot.pie(y='Size', autopct='%1.1f%%', startangle=140, legend=False)\n",
    "ax.set_ylabel('')\n",
    "plt.title('Where is money made')\n",
    "plt.show()"
   ]
  },
  {
   "cell_type": "code",
   "execution_count": null,
   "id": "ec608489",
   "metadata": {},
   "outputs": [],
   "source": [
    "import p"
   ]
  }
 ],
 "metadata": {
  "kernelspec": {
   "display_name": "Python 3 (ipykernel)",
   "language": "python",
   "name": "python3"
  },
  "language_info": {
   "codemirror_mode": {
    "name": "ipython",
    "version": 3
   },
   "file_extension": ".py",
   "mimetype": "text/x-python",
   "name": "python",
   "nbconvert_exporter": "python",
   "pygments_lexer": "ipython3",
   "version": "3.9.12"
  }
 },
 "nbformat": 4,
 "nbformat_minor": 5
}
